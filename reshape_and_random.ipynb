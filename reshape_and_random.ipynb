{
  "nbformat": 4,
  "nbformat_minor": 0,
  "metadata": {
    "colab": {
      "provenance": [],
      "authorship_tag": "ABX9TyMJlUOlfRF627tWvI+a5OnV",
      "include_colab_link": true
    },
    "kernelspec": {
      "name": "python3",
      "display_name": "Python 3"
    },
    "language_info": {
      "name": "python"
    }
  },
  "cells": [
    {
      "cell_type": "markdown",
      "metadata": {
        "id": "view-in-github",
        "colab_type": "text"
      },
      "source": [
        "<a href=\"https://colab.research.google.com/github/sarthaksandilya01/data-science/blob/main/reshape_and_random.ipynb\" target=\"_parent\"><img src=\"https://colab.research.google.com/assets/colab-badge.svg\" alt=\"Open In Colab\"/></a>"
      ]
    },
    {
      "cell_type": "code",
      "execution_count": null,
      "metadata": {
        "id": "mvK1ch9tb9pj"
      },
      "outputs": [],
      "source": []
    },
    {
      "cell_type": "markdown",
      "source": [
        "reshape and random number generator'"
      ],
      "metadata": {
        "id": "e6-_8KZtcAWH"
      }
    },
    {
      "cell_type": "code",
      "source": [
        "import numpy as np\n"
      ],
      "metadata": {
        "id": "Lv6h-MbZcDIH"
      },
      "execution_count": 1,
      "outputs": []
    },
    {
      "cell_type": "code",
      "source": [
        "np.random.random((3,3))"
      ],
      "metadata": {
        "colab": {
          "base_uri": "https://localhost:8080/"
        },
        "id": "gL4_I3t7cFaR",
        "outputId": "5e194e94-2952-49fc-b184-a4ee2e621775"
      },
      "execution_count": 4,
      "outputs": [
        {
          "output_type": "execute_result",
          "data": {
            "text/plain": [
              "array([[0.97068084, 0.72740335, 0.01656372],\n",
              "       [0.88090734, 0.68651971, 0.28954555],\n",
              "       [0.89224891, 0.74389183, 0.84282768]])"
            ]
          },
          "metadata": {},
          "execution_count": 4
        }
      ]
    },
    {
      "cell_type": "code",
      "source": [
        "np.random.random()"
      ],
      "metadata": {
        "colab": {
          "base_uri": "https://localhost:8080/"
        },
        "id": "Gf-22wIrcUVi",
        "outputId": "04a7027f-67e2-4f28-ead8-06e644f76c33"
      },
      "execution_count": 5,
      "outputs": [
        {
          "output_type": "execute_result",
          "data": {
            "text/plain": [
              "0.35714380924529465"
            ]
          },
          "metadata": {},
          "execution_count": 5
        }
      ]
    },
    {
      "cell_type": "code",
      "source": [
        "np.arange(1,10,3)"
      ],
      "metadata": {
        "colab": {
          "base_uri": "https://localhost:8080/"
        },
        "id": "Y_bzWKIPcyOK",
        "outputId": "beec1908-4cc4-4956-9473-9d72c9f0d966"
      },
      "execution_count": 6,
      "outputs": [
        {
          "output_type": "execute_result",
          "data": {
            "text/plain": [
              "array([1, 4, 7])"
            ]
          },
          "metadata": {},
          "execution_count": 6
        }
      ]
    },
    {
      "cell_type": "code",
      "source": [],
      "metadata": {
        "id": "fyHWwdAIei2l"
      },
      "execution_count": null,
      "outputs": []
    },
    {
      "cell_type": "markdown",
      "source": [
        "1 included and 10 excluded"
      ],
      "metadata": {
        "id": "NigyzdT4ep3E"
      }
    },
    {
      "cell_type": "code",
      "source": [
        "np.linspace(1,7,10)"
      ],
      "metadata": {
        "colab": {
          "base_uri": "https://localhost:8080/"
        },
        "id": "tXzCD9I_fROz",
        "outputId": "06662f15-5744-4f95-af1c-6d9ba3d43495"
      },
      "execution_count": 7,
      "outputs": [
        {
          "output_type": "execute_result",
          "data": {
            "text/plain": [
              "array([1.        , 1.66666667, 2.33333333, 3.        , 3.66666667,\n",
              "       4.33333333, 5.        , 5.66666667, 6.33333333, 7.        ])"
            ]
          },
          "metadata": {},
          "execution_count": 7
        }
      ]
    },
    {
      "cell_type": "code",
      "source": [
        "arr=np.random.random((4,3))\n"
      ],
      "metadata": {
        "id": "8u5sJj5DfVNs"
      },
      "execution_count": 8,
      "outputs": []
    },
    {
      "cell_type": "code",
      "source": [
        "arr\n"
      ],
      "metadata": {
        "colab": {
          "base_uri": "https://localhost:8080/"
        },
        "id": "3FoMrYfKfrwe",
        "outputId": "13e999e3-5efc-4641-efd5-5ac5fa43cd57"
      },
      "execution_count": 9,
      "outputs": [
        {
          "output_type": "execute_result",
          "data": {
            "text/plain": [
              "array([[0.37629445, 0.70604229, 0.19573418],\n",
              "       [0.204705  , 0.73408764, 0.08804415],\n",
              "       [0.35637583, 0.86769546, 0.34981506],\n",
              "       [0.13805763, 0.71671087, 0.66724382]])"
            ]
          },
          "metadata": {},
          "execution_count": 9
        }
      ]
    },
    {
      "cell_type": "code",
      "source": [
        "np.reshape(arr,(3,4))"
      ],
      "metadata": {
        "colab": {
          "base_uri": "https://localhost:8080/"
        },
        "id": "NC9PM77efs4s",
        "outputId": "2c65d936-0e1c-46b2-f3c7-c8d76e71ef9b"
      },
      "execution_count": 10,
      "outputs": [
        {
          "output_type": "execute_result",
          "data": {
            "text/plain": [
              "array([[0.37629445, 0.70604229, 0.19573418, 0.204705  ],\n",
              "       [0.73408764, 0.08804415, 0.35637583, 0.86769546],\n",
              "       [0.34981506, 0.13805763, 0.71671087, 0.66724382]])"
            ]
          },
          "metadata": {},
          "execution_count": 10
        }
      ]
    },
    {
      "cell_type": "code",
      "source": [
        "arr.flatten()"
      ],
      "metadata": {
        "colab": {
          "base_uri": "https://localhost:8080/"
        },
        "id": "ApsW1JnIfx71",
        "outputId": "aa66a28b-4d3b-40a7-d3ba-50a8ea8cc1bb"
      },
      "execution_count": 12,
      "outputs": [
        {
          "output_type": "execute_result",
          "data": {
            "text/plain": [
              "array([0.37629445, 0.70604229, 0.19573418, 0.204705  , 0.73408764,\n",
              "       0.08804415, 0.35637583, 0.86769546, 0.34981506, 0.13805763,\n",
              "       0.71671087, 0.66724382])"
            ]
          },
          "metadata": {},
          "execution_count": 12
        }
      ]
    },
    {
      "cell_type": "code",
      "source": [],
      "metadata": {
        "id": "QsvKyz-AgEER"
      },
      "execution_count": null,
      "outputs": []
    }
  ]
}